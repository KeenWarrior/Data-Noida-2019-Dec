{
 "cells": [
  {
   "cell_type": "code",
   "execution_count": 1,
   "metadata": {},
   "outputs": [],
   "source": [
    "import numpy as np\n",
    "import matplotlib.pyplot as plt\n",
    "\n",
    "from sklearn.preprocessing import OneHotEncoder\n",
    "\n",
    "from sklearn.model_selection import train_test_split"
   ]
  },
  {
   "cell_type": "code",
   "execution_count": 2,
   "metadata": {},
   "outputs": [],
   "source": [
    "data = np.load(\"../datasets/mnist/mnist_train_small.npy\")"
   ]
  },
  {
   "cell_type": "code",
   "execution_count": 3,
   "metadata": {},
   "outputs": [],
   "source": [
    "X, y = data[:, 1:], data[:, :1]"
   ]
  },
  {
   "cell_type": "code",
   "execution_count": 4,
   "metadata": {},
   "outputs": [],
   "source": [
    "y_oe = (y % 2)"
   ]
  },
  {
   "cell_type": "code",
   "execution_count": 5,
   "metadata": {},
   "outputs": [
    {
     "data": {
      "text/plain": [
       "(19999, 1)"
      ]
     },
     "execution_count": 5,
     "metadata": {},
     "output_type": "execute_result"
    }
   ],
   "source": [
    "y.shape"
   ]
  },
  {
   "cell_type": "code",
   "execution_count": 6,
   "metadata": {},
   "outputs": [],
   "source": [
    "ohe = OneHotEncoder()"
   ]
  },
  {
   "cell_type": "code",
   "execution_count": 7,
   "metadata": {},
   "outputs": [],
   "source": [
    "y_hot = ohe.fit_transform(y).todense()"
   ]
  },
  {
   "cell_type": "code",
   "execution_count": 8,
   "metadata": {},
   "outputs": [],
   "source": [
    "y_oe_hot = ohe.fit_transform(y_oe).todense()"
   ]
  },
  {
   "cell_type": "code",
   "execution_count": 34,
   "metadata": {},
   "outputs": [],
   "source": [
    "from tensorflow.keras.models import Model\n",
    "from tensorflow.keras.layers import Input, Dense"
   ]
  },
  {
   "cell_type": "code",
   "execution_count": 51,
   "metadata": {},
   "outputs": [
    {
     "name": "stdout",
     "output_type": "stream",
     "text": [
      "Model: \"model_5\"\n",
      "__________________________________________________________________________________________________\n",
      "Layer (type)                    Output Shape         Param #     Connected to                     \n",
      "==================================================================================================\n",
      "input_6 (InputLayer)            [(None, 784)]        0                                            \n",
      "__________________________________________________________________________________________________\n",
      "d1 (Dense)                      (None, 400)          314000      input_6[0][0]                    \n",
      "__________________________________________________________________________________________________\n",
      "d2 (Dense)                      (None, 200)          80200       d1[0][0]                         \n",
      "__________________________________________________________________________________________________\n",
      "d3 (Dense)                      (None, 100)          20100       d2[0][0]                         \n",
      "__________________________________________________________________________________________________\n",
      "d41 (Dense)                     (None, 50)           5050        d3[0][0]                         \n",
      "__________________________________________________________________________________________________\n",
      "d42 (Dense)                     (None, 50)           5050        d3[0][0]                         \n",
      "__________________________________________________________________________________________________\n",
      "out1 (Dense)                    (None, 10)           510         d41[0][0]                        \n",
      "__________________________________________________________________________________________________\n",
      "out2 (Dense)                    (None, 2)            102         d42[0][0]                        \n",
      "==================================================================================================\n",
      "Total params: 425,012\n",
      "Trainable params: 425,012\n",
      "Non-trainable params: 0\n",
      "__________________________________________________________________________________________________\n"
     ]
    }
   ],
   "source": [
    "input_layer = Input(shape=(784,))\n",
    "d1 = Dense(units=400, activation=\"sigmoid\", name=\"d1\")(input_layer)\n",
    "d2 = Dense(units=200, activation=\"sigmoid\", name=\"d2\")(d1)\n",
    "d3 = Dense(units=100, activation=\"sigmoid\", name=\"d3\")(d2)\n",
    "d41 = Dense(units=50, activation=\"sigmoid\", name=\"d41\")(d3)\n",
    "d42 = Dense(units=50, activation=\"sigmoid\", name=\"d42\")(d3)\n",
    "out1 = Dense(units=10, activation=\"softmax\", name=\"out1\")(d41)\n",
    "out2 = Dense(units=2, activation=\"sigmoid\", name=\"out2\")(d42)\n",
    "\n",
    "model = Model(inputs=[input_layer], outputs=[out1, out2])\n",
    "\n",
    "model.summary()"
   ]
  },
  {
   "cell_type": "code",
   "execution_count": 52,
   "metadata": {},
   "outputs": [],
   "source": [
    "model.compile(optimizer='adam',loss=\"categorical_crossentropy\", metrics=[\"accuracy\"])"
   ]
  },
  {
   "cell_type": "code",
   "execution_count": 53,
   "metadata": {},
   "outputs": [
    {
     "name": "stdout",
     "output_type": "stream",
     "text": [
      "Train on 10000 samples\n",
      "Epoch 1/10\n",
      "10000/10000 [==============================] - 4s 443us/sample - loss: 2.3964 - out1_loss: 1.9262 - out2_loss: 0.4702 - out1_accuracy: 0.4265 - out2_accuracy: 0.7712\n",
      "Epoch 2/10\n",
      "10000/10000 [==============================] - 3s 283us/sample - loss: 1.2909 - out1_loss: 1.0822 - out2_loss: 0.2087 - out1_accuracy: 0.7211 - out2_accuracy: 0.9257\n",
      "Epoch 3/10\n",
      "10000/10000 [==============================] - 3s 264us/sample - loss: 0.9382 - out1_loss: 0.7617 - out2_loss: 0.1765 - out1_accuracy: 0.8014 - out2_accuracy: 0.9392\n",
      "Epoch 4/10\n",
      "10000/10000 [==============================] - 3s 254us/sample - loss: 0.7589 - out1_loss: 0.5944 - out2_loss: 0.1645 - out1_accuracy: 0.8484 - out2_accuracy: 0.9422\n",
      "Epoch 5/10\n",
      "10000/10000 [==============================] - 3s 267us/sample - loss: 0.6498 - out1_loss: 0.4940 - out2_loss: 0.1558 - out1_accuracy: 0.8688 - out2_accuracy: 0.9443\n",
      "Epoch 6/10\n",
      "10000/10000 [==============================] - 3s 349us/sample - loss: 0.5755 - out1_loss: 0.4322 - out2_loss: 0.1433 - out1_accuracy: 0.8834 - out2_accuracy: 0.9471\n",
      "Epoch 7/10\n",
      "10000/10000 [==============================] - 4s 370us/sample - loss: 0.5165 - out1_loss: 0.3816 - out2_loss: 0.1349 - out1_accuracy: 0.8928 - out2_accuracy: 0.9513\n",
      "Epoch 8/10\n",
      "10000/10000 [==============================] - 3s 277us/sample - loss: 0.4863 - out1_loss: 0.3547 - out2_loss: 0.1316 - out1_accuracy: 0.8992 - out2_accuracy: 0.9511\n",
      "Epoch 9/10\n",
      "10000/10000 [==============================] - 3s 345us/sample - loss: 0.4441 - out1_loss: 0.3221 - out2_loss: 0.1220 - out1_accuracy: 0.9106 - out2_accuracy: 0.9565\n",
      "Epoch 10/10\n",
      "10000/10000 [==============================] - 2s 248us/sample - loss: 0.4328 - out1_loss: 0.3140 - out2_loss: 0.1188 - out1_accuracy: 0.9088 - out2_accuracy: 0.9586\n"
     ]
    }
   ],
   "source": [
    "history = model.fit(x=[X[:10000]],\n",
    "    y=[y_hot[:10000], y_oe_hot[:10000]],\n",
    "    batch_size=100,\n",
    "    epochs=10,\n",
    "    )"
   ]
  },
  {
   "cell_type": "code",
   "execution_count": 57,
   "metadata": {},
   "outputs": [
    {
     "data": {
      "text/plain": [
       "[<matplotlib.lines.Line2D at 0x1a6131eac8>]"
      ]
     },
     "execution_count": 57,
     "metadata": {},
     "output_type": "execute_result"
    },
    {
     "data": {
      "image/png": "[encoded data removed]",
      "text/plain": [
       "<Figure size 432x288 with 1 Axes>"
      ]
     },
     "metadata": {
      "needs_background": "light"
     },
     "output_type": "display_data"
    }
   ],
   "source": [
    "plt.figure()\n",
    "plt.subplot(3, 1, 1)\n",
    "plt.plot(history.history['loss'])\n",
    "plt.subplot(3, 2, 3)\n",
    "plt.plot(history.history['out1_loss'])\n",
    "plt.subplot(3, 2, 4)\n",
    "plt.plot(history.history['out2_loss'])\n",
    "plt.subplot(3, 2, 5)\n",
    "plt.plot(history.history['out1_accuracy'])\n",
    "plt.subplot(3, 2, 6)\n",
    "plt.plot(history.history['loss'])\n",
    "plt.show()"
   ]
  },
  {
   "cell_type": "code",
   "execution_count": 54,
   "metadata": {},
   "outputs": [
    {
     "data": {
      "text/plain": [
       "[0.4643131565458716, 0.33280382, 0.13151084, 0.9022902, 0.95329535]"
      ]
     },
     "execution_count": 54,
     "metadata": {},
     "output_type": "execute_result"
    }
   ],
   "source": [
    "model.evaluate(x=[X[10000:]],\n",
    "    y=[y_hot[10000:], y_oe_hot[10000:]],\n",
    "    batch_size=2000,\n",
    "    verbose=0)"
   ]
  },
  {
   "cell_type": "code",
   "execution_count": null,
   "metadata": {},
   "outputs": [],
   "source": []
  },
  {
   "cell_type": "code",
   "execution_count": 21,
   "metadata": {},
   "outputs": [],
   "source": [
    "result1, result2 = model.predict(X[:5])"
   ]
  },
  {
   "cell_type": "code",
   "execution_count": 28,
   "metadata": {},
   "outputs": [
    {
     "data": {
      "text/plain": [
       "array([[0.00237373, 0.5720421 ],\n",
       "       [0.00739008, 0.32655677],\n",
       "       [0.00778916, 0.29852447],\n",
       "       [0.00346583, 0.47299814],\n",
       "       [0.5718068 , 0.00530264]], dtype=float32)"
      ]
     },
     "execution_count": 28,
     "metadata": {},
     "output_type": "execute_result"
    }
   ],
   "source": [
    "result2"
   ]
  },
  {
   "cell_type": "code",
   "execution_count": 26,
   "metadata": {},
   "outputs": [
    {
     "data": {
      "text/plain": [
       "array([5, 7, 9, 5, 2])"
      ]
     },
     "execution_count": 26,
     "metadata": {},
     "output_type": "execute_result"
    }
   ],
   "source": [
    "result1.argmax(axis=1)"
   ]
  },
  {
   "cell_type": "code",
   "execution_count": 23,
   "metadata": {},
   "outputs": [
    {
     "data": {
      "text/plain": [
       "array([1, 1, 1, 1, 0])"
      ]
     },
     "execution_count": 23,
     "metadata": {},
     "output_type": "execute_result"
    }
   ],
   "source": [
    "result2.argmax(axis=1)"
   ]
  },
  {
   "cell_type": "code",
   "execution_count": 24,
   "metadata": {},
   "outputs": [
    {
     "data": {
      "text/plain": [
       "array([[5],\n",
       "       [7],\n",
       "       [9],\n",
       "       [5],\n",
       "       [2]], dtype=uint8)"
      ]
     },
     "execution_count": 24,
     "metadata": {},
     "output_type": "execute_result"
    }
   ],
   "source": [
    "y[:5]"
   ]
  },
  {
   "cell_type": "code",
   "execution_count": 44,
   "metadata": {},
   "outputs": [
    {
     "data": {
      "text/plain": [
       "Text(0.5, 1.0, '[[4 9 1 8 5 0 6 7 3 2]][[1 0]]')"
      ]
     },
     "execution_count": 44,
     "metadata": {},
     "output_type": "execute_result"
    },
    {
     "data": {
      "image/png": "[encoded data removed]",
      "text/plain": [
       "<Figure size 432x288 with 1 Axes>"
      ]
     },
     "metadata": {
      "needs_background": "light"
     },
     "output_type": "display_data"
    }
   ],
   "source": [
    "from PIL import Image\n",
    "im = Image.open(\"../datasets/nums/five.jpeg\")\n",
    "im = im.resize((28, 28))\n",
    "img = np.array(im)\n",
    "img_gray = (255 - img.mean(axis=2))\n",
    "fin_img = (img_gray > 130).astype(int) * 255\n",
    "\n",
    "plt.imshow(fin_img, cmap=\"gray\")\n",
    "\n",
    "result1, result2 = model.predict(fin_img.reshape(1, 784))\n",
    "\n",
    "plt.imshow(fin_img, cmap=\"gray\")\n",
    "plt.title(str(result1.argsort(axis=1)) + str(result2.argsort(axis=1)))"
   ]
  },
  {
   "cell_type": "code",
   "execution_count": 117,
   "metadata": {},
   "outputs": [
    {
     "data": {
      "text/plain": [
       "0"
      ]
     },
     "execution_count": 117,
     "metadata": {},
     "output_type": "execute_result"
    }
   ],
   "source": [
    "X.min()"
   ]
  },
  {
   "cell_type": "code",
   "execution_count": 163,
   "metadata": {},
   "outputs": [],
   "source": [
    "fours = X[y.flatten()==8]"
   ]
  },
  {
   "cell_type": "code",
   "execution_count": 165,
   "metadata": {},
   "outputs": [
    {
     "data": {
      "text/plain": [
       "<matplotlib.image.AxesImage at 0x1a5f5fbf98>"
      ]
     },
     "execution_count": 165,
     "metadata": {},
     "output_type": "execute_result"
    },
    {
     "data": {
      "image/png": "[encoded data removed]",
      "text/plain": [
       "<Figure size 432x288 with 1 Axes>"
      ]
     },
     "metadata": {
      "needs_background": "light"
     },
     "output_type": "display_data"
    }
   ],
   "source": [
    "plt.imshow(fours[100].reshape(28, 28))"
   ]
  },
  {
   "cell_type": "code",
   "execution_count": 29,
   "metadata": {},
   "outputs": [],
   "source": [
    "a = np.array([100, 100])"
   ]
  },
  {
   "cell_type": "code",
   "execution_count": 32,
   "metadata": {},
   "outputs": [
    {
     "data": {
      "text/plain": [
       "array([1., 1.])"
      ]
     },
     "execution_count": 32,
     "metadata": {},
     "output_type": "execute_result"
    }
   ],
   "source": [
    "1 / (1 + np.exp(-a))"
   ]
  },
  {
   "cell_type": "code",
   "execution_count": 33,
   "metadata": {},
   "outputs": [
    {
     "data": {
      "text/plain": [
       "array([0.5, 0.5])"
      ]
     },
     "execution_count": 33,
     "metadata": {},
     "output_type": "execute_result"
    }
   ],
   "source": [
    "np.exp(a) / np.sum(np.exp(a))"
   ]
  },
  {
   "cell_type": "code",
   "execution_count": null,
   "metadata": {},
   "outputs": [],
   "source": []
  }
 ],
 "metadata": {
  "kernelspec": {
   "display_name": "Python 3",
   "language": "python",
   "name": "python3"
  },
  "language_info": {
   "codemirror_mode": {
    "name": "ipython",
    "version": 3
   },
   "file_extension": ".py",
   "mimetype": "text/x-python",
   "name": "python",
   "nbconvert_exporter": "python",
   "pygments_lexer": "ipython3",
   "version": "3.6.10"
  }
 },
 "nbformat": 4,
 "nbformat_minor": 4
}
