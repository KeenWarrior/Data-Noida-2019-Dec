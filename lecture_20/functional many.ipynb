{
 "cells": [
  {
   "cell_type": "code",
   "execution_count": 49,
   "metadata": {},
   "outputs": [],
   "source": [
    "import numpy as np\n",
    "import matplotlib.pyplot as plt\n",
    "\n",
    "from sklearn.preprocessing import OneHotEncoder\n",
    "\n",
    "from sklearn.model_selection import train_test_split"
   ]
  },
  {
   "cell_type": "code",
   "execution_count": 50,
   "metadata": {},
   "outputs": [],
   "source": [
    "data = np.load(\"../datasets/mnist/mnist_train_small.npy\")"
   ]
  },
  {
   "cell_type": "code",
   "execution_count": 51,
   "metadata": {},
   "outputs": [],
   "source": [
    "X, y = data[:, 1:], data[:, :1]"
   ]
  },
  {
   "cell_type": "code",
   "execution_count": 52,
   "metadata": {},
   "outputs": [],
   "source": [
    "y_oe = (y % 2)"
   ]
  },
  {
   "cell_type": "code",
   "execution_count": 53,
   "metadata": {},
   "outputs": [
    {
     "data": {
      "text/plain": [
       "(19999, 1)"
      ]
     },
     "execution_count": 53,
     "metadata": {},
     "output_type": "execute_result"
    }
   ],
   "source": [
    "y.shape"
   ]
  },
  {
   "cell_type": "code",
   "execution_count": 54,
   "metadata": {},
   "outputs": [],
   "source": [
    "ohe = OneHotEncoder()"
   ]
  },
  {
   "cell_type": "code",
   "execution_count": 55,
   "metadata": {},
   "outputs": [],
   "source": [
    "y_hot = ohe.fit_transform(y).todense()"
   ]
  },
  {
   "cell_type": "code",
   "execution_count": 56,
   "metadata": {},
   "outputs": [],
   "source": [
    "y_oe_hot = ohe.fit_transform(y_oe).todense()"
   ]
  },
  {
   "cell_type": "code",
   "execution_count": 57,
   "metadata": {},
   "outputs": [],
   "source": [
    "from tensorflow.keras.models import Model\n",
    "from tensorflow.keras.layers import Input, Dense"
   ]
  },
  {
   "cell_type": "code",
   "execution_count": 58,
   "metadata": {},
   "outputs": [],
   "source": [
    "input_layer = Input(shape=(784,))\n",
    "d1 = Dense(units=400, activation=\"sigmoid\", name=\"d1\")(input_layer)\n",
    "d2 = Dense(units=200, activation=\"sigmoid\", name=\"d2\")(d1)\n",
    "d3 = Dense(units=100, activation=\"sigmoid\", name=\"d3\")(d2)\n",
    "d41 = Dense(units=50, activation=\"sigmoid\", name=\"d41\")(d3)\n",
    "d42 = Dense(units=50, activation=\"sigmoid\", name=\"d42\")(d3)\n",
    "out1 = Dense(units=10, activation=\"softmax\", name=\"out1\")(d41)\n",
    "model1 = Model(inputs=[input_layer], outputs=[out1])\n"
   ]
  },
  {
   "cell_type": "code",
   "execution_count": 59,
   "metadata": {},
   "outputs": [],
   "source": [
    "model1.compile(optimizer='adam',loss=\"categorical_crossentropy\", metrics=[\"accuracy\"])"
   ]
  },
  {
   "cell_type": "code",
   "execution_count": 60,
   "metadata": {},
   "outputs": [],
   "source": [
    "# history = model1.fit(x=[X[:10000]],\n",
    "#     y=[y_hot[:10000]],\n",
    "#     batch_size=100,\n",
    "#     epochs=10,\n",
    "#     )"
   ]
  },
  {
   "cell_type": "code",
   "execution_count": 62,
   "metadata": {},
   "outputs": [
    {
     "data": {
      "text/plain": [
       "[2.4024423125601135, 0.065606564]"
      ]
     },
     "execution_count": 62,
     "metadata": {},
     "output_type": "execute_result"
    }
   ],
   "source": [
    "model1.evaluate([X[10000:]], [y_hot[10000:]], verbose=0)"
   ]
  },
  {
   "cell_type": "code",
   "execution_count": 43,
   "metadata": {},
   "outputs": [],
   "source": [
    "in_3 = Input(shape=(784,))\n",
    "l1 = model1(in_3)\n",
    "extra = Dense(units=1, activation=\"sigmoid\")(l1)"
   ]
  },
  {
   "cell_type": "code",
   "execution_count": 44,
   "metadata": {},
   "outputs": [],
   "source": [
    "model1.trainable = False"
   ]
  },
  {
   "cell_type": "code",
   "execution_count": 45,
   "metadata": {},
   "outputs": [],
   "source": [
    "model3 = Model(inputs=[in_3], outputs=[extra])"
   ]
  },
  {
   "cell_type": "code",
   "execution_count": 46,
   "metadata": {},
   "outputs": [
    {
     "name": "stdout",
     "output_type": "stream",
     "text": [
      "Model: \"model_8\"\n",
      "_________________________________________________________________\n",
      "Layer (type)                 Output Shape              Param #   \n",
      "=================================================================\n",
      "input_5 (InputLayer)         [(None, 784)]             0         \n",
      "_________________________________________________________________\n",
      "model_7 (Model)              (None, 10)                419860    \n",
      "_________________________________________________________________\n",
      "dense_2 (Dense)              (None, 1)                 11        \n",
      "=================================================================\n",
      "Total params: 419,871\n",
      "Trainable params: 11\n",
      "Non-trainable params: 419,860\n",
      "_________________________________________________________________\n"
     ]
    }
   ],
   "source": [
    "model3.summary()"
   ]
  },
  {
   "cell_type": "code",
   "execution_count": 47,
   "metadata": {},
   "outputs": [],
   "source": [
    "model3.compile(optimizer='sgd',loss=\"binary_crossentropy\", metrics=[\"accuracy\"])"
   ]
  },
  {
   "cell_type": "code",
   "execution_count": 48,
   "metadata": {},
   "outputs": [
    {
     "name": "stdout",
     "output_type": "stream",
     "text": [
      "Train on 10000 samples\n",
      "Epoch 1/10\n",
      "10000/10000 [==============================] - 2s 217us/sample - loss: 0.7070 - accuracy: 0.5675\n",
      "Epoch 2/10\n",
      "10000/10000 [==============================] - 1s 114us/sample - loss: 0.6886 - accuracy: 0.5744\n",
      "Epoch 3/10\n",
      "10000/10000 [==============================] - 1s 131us/sample - loss: 0.6709 - accuracy: 0.5832\n",
      "Epoch 4/10\n",
      "10000/10000 [==============================] - 1s 124us/sample - loss: 0.6540 - accuracy: 0.6112\n",
      "Epoch 5/10\n",
      "10000/10000 [==============================] - 1s 116us/sample - loss: 0.6377 - accuracy: 0.6466\n",
      "Epoch 6/10\n",
      "10000/10000 [==============================] - 1s 119us/sample - loss: 0.6222 - accuracy: 0.6996\n",
      "Epoch 7/10\n",
      "10000/10000 [==============================] - 1s 101us/sample - loss: 0.6073 - accuracy: 0.7483\n",
      "Epoch 8/10\n",
      "10000/10000 [==============================] - 1s 105us/sample - loss: 0.5930 - accuracy: 0.7630\n",
      "Epoch 9/10\n",
      "10000/10000 [==============================] - 1s 100us/sample - loss: 0.5793 - accuracy: 0.8119\n",
      "Epoch 10/10\n",
      "10000/10000 [==============================] - 1s 110us/sample - loss: 0.5662 - accuracy: 0.9068\n"
     ]
    }
   ],
   "source": [
    "history = model3.fit(x=[X[:10000]],\n",
    "    y=[y_oe[:10000]],\n",
    "    batch_size=100,\n",
    "    epochs=10,\n",
    "    )"
   ]
  },
  {
   "cell_type": "code",
   "execution_count": null,
   "metadata": {},
   "outputs": [],
   "source": []
  }
 ],
 "metadata": {
  "kernelspec": {
   "display_name": "Python 3",
   "language": "python",
   "name": "python3"
  },
  "language_info": {
   "codemirror_mode": {
    "name": "ipython",
    "version": 3
   },
   "file_extension": ".py",
   "mimetype": "text/x-python",
   "name": "python",
   "nbconvert_exporter": "python",
   "pygments_lexer": "ipython3",
   "version": "3.6.10"
  }
 },
 "nbformat": 4,
 "nbformat_minor": 4
}
