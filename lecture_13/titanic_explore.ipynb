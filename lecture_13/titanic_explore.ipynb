{
 "cells": [
  {
   "cell_type": "code",
   "execution_count": 34,
   "metadata": {},
   "outputs": [],
   "source": [
    "import pandas as pd\n",
    "from sklearn.preprocessing import LabelEncoder\n",
    "import numpy as np\n",
    "from sklearn.model_selection import train_test_split"
   ]
  },
  {
   "cell_type": "code",
   "execution_count": 35,
   "metadata": {},
   "outputs": [],
   "source": [
    "df = pd.read_csv(\"../datasets/titanic/train.csv\")"
   ]
  },
  {
   "cell_type": "code",
   "execution_count": 36,
   "metadata": {},
   "outputs": [
    {
     "data": {
      "text/plain": [
       "Index(['PassengerId', 'Survived', 'Pclass', 'Name', 'Sex', 'Age', 'SibSp',\n",
       "       'Parch', 'Ticket', 'Fare', 'Cabin', 'Embarked'],\n",
       "      dtype='object')"
      ]
     },
     "execution_count": 36,
     "metadata": {},
     "output_type": "execute_result"
    }
   ],
   "source": [
    "df.columns"
   ]
  },
  {
   "cell_type": "code",
   "execution_count": 37,
   "metadata": {},
   "outputs": [],
   "source": [
    "data = df.drop(['PassengerId', 'Name', 'Ticket', 'Fare', 'Cabin', 'Embarked'], axis=1)"
   ]
  },
  {
   "cell_type": "code",
   "execution_count": 38,
   "metadata": {},
   "outputs": [
    {
     "name": "stdout",
     "output_type": "stream",
     "text": [
      "<class 'pandas.core.frame.DataFrame'>\n",
      "RangeIndex: 891 entries, 0 to 890\n",
      "Data columns (total 6 columns):\n",
      "Survived    891 non-null int64\n",
      "Pclass      891 non-null int64\n",
      "Sex         891 non-null object\n",
      "Age         714 non-null float64\n",
      "SibSp       891 non-null int64\n",
      "Parch       891 non-null int64\n",
      "dtypes: float64(1), int64(4), object(1)\n",
      "memory usage: 41.8+ KB\n"
     ]
    }
   ],
   "source": [
    "data.info()"
   ]
  },
  {
   "cell_type": "code",
   "execution_count": 39,
   "metadata": {},
   "outputs": [],
   "source": [
    "le = LabelEncoder()\n",
    "data[\"Sex\"] = le.fit_transform(data[\"Sex\"])"
   ]
  },
  {
   "cell_type": "code",
   "execution_count": 40,
   "metadata": {},
   "outputs": [],
   "source": [
    "out = data.dropna().groupby([\"Sex\", \"Pclass\"]).mean()"
   ]
  },
  {
   "cell_type": "code",
   "execution_count": 41,
   "metadata": {},
   "outputs": [],
   "source": [
    "sheet = out.reset_index()"
   ]
  },
  {
   "cell_type": "code",
   "execution_count": 42,
   "metadata": {},
   "outputs": [
    {
     "data": {
      "text/plain": [
       "34.61176470588235"
      ]
     },
     "execution_count": 42,
     "metadata": {},
     "output_type": "execute_result"
    }
   ],
   "source": [
    "sheet.loc[(sheet[\"Sex\"]==0) & (sheet[\"Pclass\"]==1)].iloc[0, 3]"
   ]
  },
  {
   "cell_type": "code",
   "execution_count": 43,
   "metadata": {},
   "outputs": [],
   "source": [
    "def set_age(person):\n",
    "    \n",
    "    if person.isna()[\"Age\"]:\n",
    "        person[\"Age\"] =  sheet.loc[(sheet[\"Sex\"]==person[\"Sex\"]) & (sheet[\"Pclass\"]==person[\"Pclass\"])].iloc[0, 3]\n",
    "        \n",
    "    return person"
   ]
  },
  {
   "cell_type": "code",
   "execution_count": 56,
   "metadata": {},
   "outputs": [],
   "source": [
    "result = data.apply(set_age, axis=1)"
   ]
  },
  {
   "cell_type": "code",
   "execution_count": 57,
   "metadata": {},
   "outputs": [
    {
     "name": "stdout",
     "output_type": "stream",
     "text": [
      "<class 'pandas.core.frame.DataFrame'>\n",
      "RangeIndex: 891 entries, 0 to 890\n",
      "Data columns (total 6 columns):\n",
      "Survived    891 non-null float64\n",
      "Pclass      891 non-null float64\n",
      "Sex         891 non-null float64\n",
      "Age         891 non-null float64\n",
      "SibSp       891 non-null float64\n",
      "Parch       891 non-null float64\n",
      "dtypes: float64(6)\n",
      "memory usage: 41.8 KB\n"
     ]
    }
   ],
   "source": [
    "result.info()"
   ]
  },
  {
   "cell_type": "code",
   "execution_count": 58,
   "metadata": {},
   "outputs": [],
   "source": [
    "result[\"Age\"] = np.array(result[\"Age\"]/10, dtype=int)"
   ]
  },
  {
   "cell_type": "code",
   "execution_count": 59,
   "metadata": {},
   "outputs": [],
   "source": [
    "X = result.drop([\"Survived\"], axis=1)"
   ]
  },
  {
   "cell_type": "code",
   "execution_count": 60,
   "metadata": {},
   "outputs": [],
   "source": [
    "y = result[\"Survived\"]"
   ]
  },
  {
   "cell_type": "code",
   "execution_count": 61,
   "metadata": {},
   "outputs": [],
   "source": [
    "X_train, X_test, y_train, y_test = train_test_split(\n",
    "...     X, y, test_size=0.33, random_state=42)"
   ]
  },
  {
   "cell_type": "code",
   "execution_count": null,
   "metadata": {},
   "outputs": [],
   "source": []
  },
  {
   "cell_type": "code",
   "execution_count": 69,
   "metadata": {},
   "outputs": [],
   "source": []
  },
  {
   "cell_type": "code",
   "execution_count": 70,
   "metadata": {},
   "outputs": [
    {
     "data": {
      "text/plain": [
       "0.9607079018756469"
      ]
     },
     "execution_count": 70,
     "metadata": {},
     "output_type": "execute_result"
    }
   ],
   "source": [
    "entropy(y)"
   ]
  },
  {
   "cell_type": "code",
   "execution_count": 81,
   "metadata": {},
   "outputs": [],
   "source": []
  },
  {
   "cell_type": "code",
   "execution_count": 82,
   "metadata": {},
   "outputs": [
    {
     "name": "stdout",
     "output_type": "stream",
     "text": [
      "Pclass 0.07579362743608165\n",
      "Sex 0.2176601066606142\n",
      "Age 0.0011056067250906354\n",
      "SibSp 0.009584541813400071\n",
      "Parch 0.015380754493137583\n"
     ]
    }
   ],
   "source": [
    "for col in X.columns:\n",
    "    print(col, info_gain(X, y, col))"
   ]
  },
  {
   "cell_type": "code",
   "execution_count": 83,
   "metadata": {},
   "outputs": [
    {
     "data": {
      "text/plain": [
       "-0.0"
      ]
     },
     "execution_count": 83,
     "metadata": {},
     "output_type": "execute_result"
    }
   ],
   "source": [
    "entropy([])"
   ]
  },
  {
   "cell_type": "code",
   "execution_count": 93,
   "metadata": {},
   "outputs": [],
   "source": [
    "class Node:\n",
    "    \n",
    "    def __init__(self, label=None, pivot=None, result=None):\n",
    "        self.label = label\n",
    "        self.pivot = pivot\n",
    "        self.result = result\n",
    "        \n",
    "        self.left = None\n",
    "        self.right = None\n",
    "        \n",
    "    def __repr__(self):\n",
    "        \n",
    "        if self.label == None:\n",
    "            return str(self.result > 0.5)\n",
    "        else:\n",
    "            return \"{} : {}\".format(self.label, self.pivot)\n",
    "    "
   ]
  },
  {
   "cell_type": "code",
   "execution_count": 140,
   "metadata": {},
   "outputs": [],
   "source": [
    "def entropy(y):\n",
    "    \n",
    "    data = np.array(y)\n",
    "    items, counts = np.unique(data, return_counts=True)\n",
    "    probabs = counts / data.size\n",
    "    log_probabs = np.log2(probabs)\n",
    "    return -np.sum(probabs * log_probabs)\n",
    "\n",
    "def info_gain(X, y, label):\n",
    "    \n",
    "    pivot = X[label].mean()\n",
    "    \n",
    "    left_cut = X[label] < pivot\n",
    "    right_cut = X[label] >= pivot\n",
    "    \n",
    "    y_left, y_right = y.loc[left_cut], y.loc[right_cut]\n",
    "    \n",
    "    p_left = len(y_left)/len(y)\n",
    "    p_right= 1 - p_left\n",
    "    \n",
    "    return entropy(y) - (p_left * entropy(y_left) + p_right*entropy(y_right))\n",
    "\n",
    "class CustomDecisionTree:\n",
    "    \n",
    "    def __init__(self, max_depth=5):\n",
    "        self.root = None\n",
    "        self.max_depth = max_depth\n",
    "    \n",
    "    def fit(self, X, y):\n",
    "        \n",
    "        self.root = self.rec_fit(X, y, self.max_depth)\n",
    "        \n",
    "    def rec_fit(self, X, y, max_depth):\n",
    "        \n",
    "        if max_depth == 0:\n",
    "            node = Node(result=y.mean())\n",
    "            return node\n",
    "        \n",
    "        gains = []\n",
    "        for col in X.columns:\n",
    "            gains.append((info_gain(X, y, col), col))\n",
    "        \n",
    "        sorted_gains = sorted(gains, reverse=True)\n",
    "        selected_gain, selected_col = sorted_gains[0]\n",
    "        \n",
    "        if selected_gain <= 0:\n",
    "            node = Node(result=y.mean())\n",
    "            return node\n",
    "        \n",
    "        pivot = X[selected_col].mean()\n",
    "    \n",
    "        left_cut = X[selected_col] < pivot\n",
    "        right_cut = X[selected_col] >= pivot\n",
    "\n",
    "        X_left, X_right = X.loc[left_cut], X.loc[right_cut]\n",
    "        y_left, y_right = y.loc[left_cut], y.loc[right_cut]\n",
    "        \n",
    "        node = Node(label=selected_col, pivot=pivot)\n",
    "        node.left = self.rec_fit(X_left, y_left, max_depth-1)\n",
    "        node.right = self.rec_fit(X_right, y_right, max_depth-1)\n",
    "        \n",
    "        return node\n",
    "    \n",
    "    def display(self):\n",
    "        self.rec_display(self.root, \"\")\n",
    "        \n",
    "    def rec_display(self, node, indent):\n",
    "        if node == None:\n",
    "            return\n",
    "        \n",
    "        print(indent, node)\n",
    "        self.rec_display(node.left, indent + \"\\t\")\n",
    "        self.rec_display(node.right, indent + \"\\t\")\n",
    "        \n",
    "    def predict_point(self, point):\n",
    "        return self.rec_predict_point(self.root, point)\n",
    "    \n",
    "    def rec_predict_point(self, node, point):\n",
    "        if node.label == None:\n",
    "            return node.result\n",
    "        \n",
    "        if point[node.label] < node.pivot:\n",
    "            return self.rec_predict_point(node.left, point)\n",
    "        else:\n",
    "            return self.rec_predict_point(node.right, point)\n",
    "        \n",
    "    def predict(self, X):\n",
    "        results = []\n",
    "        for i, point in X.iterrows():\n",
    "            results.append(self.predict_point(point))\n",
    "            \n",
    "        return (np.array(results) > .5).astype(int)\n",
    "        \n",
    "    def score(self, X, y):\n",
    "        yp = self.predict(X)\n",
    "        ya = np.array(y)\n",
    "        return np.mean(yp == ya)"
   ]
  },
  {
   "cell_type": "code",
   "execution_count": 161,
   "metadata": {},
   "outputs": [],
   "source": [
    "model = CustomDecisionTree(max_depth=25)"
   ]
  },
  {
   "cell_type": "code",
   "execution_count": 162,
   "metadata": {},
   "outputs": [],
   "source": [
    "model.fit(X_train, y_train)"
   ]
  },
  {
   "cell_type": "code",
   "execution_count": 163,
   "metadata": {},
   "outputs": [
    {
     "name": "stdout",
     "output_type": "stream",
     "text": [
      " Sex : 0.6543624161073825\n",
      "\t Pclass : 2.1941747572815533\n",
      "\t\t SibSp : 0.514018691588785\n",
      "\t\t\t Pclass : 1.4516129032258065\n",
      "\t\t\t\t Age : 3.0294117647058822\n",
      "\t\t\t\t\t True\n",
      "\t\t\t\t\t Age : 4.454545454545454\n",
      "\t\t\t\t\t\t True\n",
      "\t\t\t\t\t\t Parch : 0.4\n",
      "\t\t\t\t\t\t\t True\n",
      "\t\t\t\t\t\t\t True\n",
      "\t\t\t\t True\n",
      "\t\t\t Age : 2.466666666666667\n",
      "\t\t\t\t SibSp : 1.2916666666666667\n",
      "\t\t\t\t\t Pclass : 1.631578947368421\n",
      "\t\t\t\t\t\t Parch : 0.8571428571428571\n",
      "\t\t\t\t\t\t\t True\n",
      "\t\t\t\t\t\t\t Age : 1.0\n",
      "\t\t\t\t\t\t\t\t False\n",
      "\t\t\t\t\t\t\t\t Age : 1.5\n",
      "\t\t\t\t\t\t\t\t\t True\n",
      "\t\t\t\t\t\t\t\t\t False\n",
      "\t\t\t\t\t\t Parch : 0.8333333333333334\n",
      "\t\t\t\t\t\t\t Age : 1.6666666666666667\n",
      "\t\t\t\t\t\t\t\t True\n",
      "\t\t\t\t\t\t\t\t True\n",
      "\t\t\t\t\t\t\t True\n",
      "\t\t\t\t\t True\n",
      "\t\t\t\t True\n",
      "\t\t SibSp : 0.9797979797979798\n",
      "\t\t\t Parch : 0.5555555555555556\n",
      "\t\t\t\t Age : 1.8717948717948718\n",
      "\t\t\t\t\t True\n",
      "\t\t\t\t\t Age : 2.1333333333333333\n",
      "\t\t\t\t\t\t True\n",
      "\t\t\t\t\t\t Age : 3.3333333333333335\n",
      "\t\t\t\t\t\t\t False\n",
      "\t\t\t\t\t\t\t False\n",
      "\t\t\t\t Parch : 2.0\n",
      "\t\t\t\t\t True\n",
      "\t\t\t\t\t Parch : 2.6666666666666665\n",
      "\t\t\t\t\t\t Age : 1.5\n",
      "\t\t\t\t\t\t\t Age : 0.5\n",
      "\t\t\t\t\t\t\t\t True\n",
      "\t\t\t\t\t\t\t\t False\n",
      "\t\t\t\t\t\t\t True\n",
      "\t\t\t\t\t\t Parch : 4.0\n",
      "\t\t\t\t\t\t\t True\n",
      "\t\t\t\t\t\t\t False\n",
      "\t\t\t Parch : 1.1111111111111112\n",
      "\t\t\t\t Age : 2.0\n",
      "\t\t\t\t\t SibSp : 2.1666666666666665\n",
      "\t\t\t\t\t\t Parch : 0.5\n",
      "\t\t\t\t\t\t\t False\n",
      "\t\t\t\t\t\t\t True\n",
      "\t\t\t\t\t\t False\n",
      "\t\t\t\t\t SibSp : 1.2083333333333333\n",
      "\t\t\t\t\t\t Age : 2.4285714285714284\n",
      "\t\t\t\t\t\t\t Parch : 0.21428571428571427\n",
      "\t\t\t\t\t\t\t\t True\n",
      "\t\t\t\t\t\t\t\t False\n",
      "\t\t\t\t\t\t\t Age : 3.2857142857142856\n",
      "\t\t\t\t\t\t\t\t Parch : 0.6\n",
      "\t\t\t\t\t\t\t\t\t False\n",
      "\t\t\t\t\t\t\t\t\t True\n",
      "\t\t\t\t\t\t\t\t False\n",
      "\t\t\t\t\t\t Parch : 0.3333333333333333\n",
      "\t\t\t\t\t\t\t True\n",
      "\t\t\t\t\t\t\t False\n",
      "\t\t\t\t SibSp : 3.6666666666666665\n",
      "\t\t\t\t\t False\n",
      "\t\t\t\t\t SibSp : 5.857142857142857\n",
      "\t\t\t\t\t\t SibSp : 4.25\n",
      "\t\t\t\t\t\t\t Age : 0.3333333333333333\n",
      "\t\t\t\t\t\t\t\t False\n",
      "\t\t\t\t\t\t\t\t True\n",
      "\t\t\t\t\t\t\t False\n",
      "\t\t\t\t\t\t False\n",
      "\t Pclass : 2.4128205128205127\n",
      "\t\t Parch : 0.20915032679738563\n",
      "\t\t\t Pclass : 1.5\n",
      "\t\t\t\t Age : 3.703125\n",
      "\t\t\t\t\t SibSp : 0.4583333333333333\n",
      "\t\t\t\t\t\t Age : 2.6153846153846154\n",
      "\t\t\t\t\t\t\t False\n",
      "\t\t\t\t\t\t\t False\n",
      "\t\t\t\t\t\t Age : 2.1818181818181817\n",
      "\t\t\t\t\t\t\t Age : 1.7142857142857142\n",
      "\t\t\t\t\t\t\t\t False\n",
      "\t\t\t\t\t\t\t\t True\n",
      "\t\t\t\t\t\t\t False\n",
      "\t\t\t\t\t SibSp : 0.2\n",
      "\t\t\t\t\t\t Age : 4.545454545454546\n",
      "\t\t\t\t\t\t\t False\n",
      "\t\t\t\t\t\t\t Age : 5.636363636363637\n",
      "\t\t\t\t\t\t\t\t False\n",
      "\t\t\t\t\t\t\t\t Age : 6.4\n",
      "\t\t\t\t\t\t\t\t\t False\n",
      "\t\t\t\t\t\t\t\t\t True\n",
      "\t\t\t\t\t\t SibSp : 1.1428571428571428\n",
      "\t\t\t\t\t\t\t Age : 4.166666666666667\n",
      "\t\t\t\t\t\t\t\t False\n",
      "\t\t\t\t\t\t\t\t False\n",
      "\t\t\t\t\t\t\t False\n",
      "\t\t\t\t Age : 2.921875\n",
      "\t\t\t\t\t Age : 1.6538461538461537\n",
      "\t\t\t\t\t\t False\n",
      "\t\t\t\t\t\t False\n",
      "\t\t\t\t\t Age : 3.789473684210526\n",
      "\t\t\t\t\t\t SibSp : 0.3333333333333333\n",
      "\t\t\t\t\t\t\t False\n",
      "\t\t\t\t\t\t\t SibSp : 1.1666666666666667\n",
      "\t\t\t\t\t\t\t\t False\n",
      "\t\t\t\t\t\t\t\t False\n",
      "\t\t\t\t\t\t SibSp : 0.17647058823529413\n",
      "\t\t\t\t\t\t\t Age : 4.857142857142857\n",
      "\t\t\t\t\t\t\t\t False\n",
      "\t\t\t\t\t\t\t\t Age : 5.333333333333333\n",
      "\t\t\t\t\t\t\t\t\t False\n",
      "\t\t\t\t\t\t\t\t\t Age : 6.5\n",
      "\t\t\t\t\t\t\t\t\t\t True\n",
      "\t\t\t\t\t\t\t\t\t\t False\n",
      "\t\t\t\t\t\t\t False\n",
      "\t\t\t Age : 2.52\n",
      "\t\t\t\t Age : 0.6923076923076923\n",
      "\t\t\t\t\t True\n",
      "\t\t\t\t\t SibSp : 0.8333333333333334\n",
      "\t\t\t\t\t\t Parch : 1.3333333333333333\n",
      "\t\t\t\t\t\t\t False\n",
      "\t\t\t\t\t\t\t True\n",
      "\t\t\t\t\t\t False\n",
      "\t\t\t\t Pclass : 1.25\n",
      "\t\t\t\t\t Age : 4.666666666666667\n",
      "\t\t\t\t\t\t Age : 3.25\n",
      "\t\t\t\t\t\t\t SibSp : 0.3333333333333333\n",
      "\t\t\t\t\t\t\t\t False\n",
      "\t\t\t\t\t\t\t\t True\n",
      "\t\t\t\t\t\t\t False\n",
      "\t\t\t\t\t\t Age : 5.8\n",
      "\t\t\t\t\t\t\t False\n",
      "\t\t\t\t\t\t\t Parch : 2.0\n",
      "\t\t\t\t\t\t\t\t Age : 6.5\n",
      "\t\t\t\t\t\t\t\t\t True\n",
      "\t\t\t\t\t\t\t\t\t False\n",
      "\t\t\t\t\t\t\t\t False\n",
      "\t\t\t\t\t False\n",
      "\t\t Parch : 0.22784810126582278\n",
      "\t\t\t SibSp : 0.14925373134328357\n",
      "\t\t\t\t Age : 2.389830508474576\n",
      "\t\t\t\t\t Age : 1.8512396694214877\n",
      "\t\t\t\t\t\t False\n",
      "\t\t\t\t\t\t False\n",
      "\t\t\t\t\t Age : 3.5535714285714284\n",
      "\t\t\t\t\t\t False\n",
      "\t\t\t\t\t\t Age : 4.55\n",
      "\t\t\t\t\t\t\t False\n",
      "\t\t\t\t\t\t\t False\n",
      "\t\t\t\t Age : 2.125\n",
      "\t\t\t\t\t Age : 1.9\n",
      "\t\t\t\t\t\t False\n",
      "\t\t\t\t\t\t SibSp : 1.2222222222222223\n",
      "\t\t\t\t\t\t\t False\n",
      "\t\t\t\t\t\t\t False\n",
      "\t\t\t\t\t False\n",
      "\t\t\t SibSp : 2.9722222222222223\n",
      "\t\t\t\t Age : 1.8823529411764706\n",
      "\t\t\t\t\t Age : 0.375\n",
      "\t\t\t\t\t\t True\n",
      "\t\t\t\t\t\t False\n",
      "\t\t\t\t\t Age : 3.2222222222222223\n",
      "\t\t\t\t\t\t Age : 2.6\n",
      "\t\t\t\t\t\t\t Parch : 1.5\n",
      "\t\t\t\t\t\t\t\t True\n",
      "\t\t\t\t\t\t\t\t False\n",
      "\t\t\t\t\t\t\t False\n",
      "\t\t\t\t\t\t False\n",
      "\t\t\t\t SibSp : 5.0\n",
      "\t\t\t\t\t Parch : 1.2727272727272727\n",
      "\t\t\t\t\t\t False\n",
      "\t\t\t\t\t\t False\n",
      "\t\t\t\t\t False\n"
     ]
    }
   ],
   "source": [
    "model.display()"
   ]
  },
  {
   "cell_type": "code",
   "execution_count": 149,
   "metadata": {},
   "outputs": [
    {
     "data": {
      "text/plain": [
       "array([1, 0, 0, 1, 0, 1, 1, 0, 1, 1, 0, 0, 0, 0, 0, 1, 0, 1, 0, 0])"
      ]
     },
     "execution_count": 149,
     "metadata": {},
     "output_type": "execute_result"
    }
   ],
   "source": [
    "model.predict(X_test.iloc[:20])"
   ]
  },
  {
   "cell_type": "code",
   "execution_count": 165,
   "metadata": {},
   "outputs": [
    {
     "data": {
      "text/plain": [
       "0.823728813559322"
      ]
     },
     "execution_count": 165,
     "metadata": {},
     "output_type": "execute_result"
    }
   ],
   "source": [
    "model.score(X_test, y_test)"
   ]
  },
  {
   "cell_type": "code",
   "execution_count": 166,
   "metadata": {},
   "outputs": [
    {
     "data": {
      "text/plain": [
       "0.8573825503355704"
      ]
     },
     "execution_count": 166,
     "metadata": {},
     "output_type": "execute_result"
    }
   ],
   "source": [
    "model.score(X_train, y_train)"
   ]
  },
  {
   "cell_type": "code",
   "execution_count": null,
   "metadata": {},
   "outputs": [],
   "source": []
  }
 ],
 "metadata": {
  "kernelspec": {
   "display_name": "Python 3",
   "language": "python",
   "name": "python3"
  },
  "language_info": {
   "codemirror_mode": {
    "name": "ipython",
    "version": 3
   },
   "file_extension": ".py",
   "mimetype": "text/x-python",
   "name": "python",
   "nbconvert_exporter": "python",
   "pygments_lexer": "ipython3",
   "version": "3.7.2"
  }
 },
 "nbformat": 4,
 "nbformat_minor": 4
}
