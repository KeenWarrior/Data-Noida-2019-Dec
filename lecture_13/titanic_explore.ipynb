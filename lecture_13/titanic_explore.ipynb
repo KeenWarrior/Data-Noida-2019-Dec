{
 "cells": [
  {
   "cell_type": "code",
   "execution_count": 34,
   "metadata": {},
   "outputs": [],
   "source": [
    "import pandas as pd\n",
    "from sklearn.preprocessing import LabelEncoder\n",
    "import numpy as np\n",
    "from sklearn.model_selection import train_test_split"
   ]
  },
  {
   "cell_type": "code",
   "execution_count": 35,
   "metadata": {},
   "outputs": [],
   "source": [
    "df = pd.read_csv(\"../datasets/titanic/train.csv\")"
   ]
  },
  {
   "cell_type": "code",
   "execution_count": 36,
   "metadata": {},
   "outputs": [
    {
     "data": {
      "text/plain": [
       "Index(['PassengerId', 'Survived', 'Pclass', 'Name', 'Sex', 'Age', 'SibSp',\n",
       "       'Parch', 'Ticket', 'Fare', 'Cabin', 'Embarked'],\n",
       "      dtype='object')"
      ]
     },
     "execution_count": 36,
     "metadata": {},
     "output_type": "execute_result"
    }
   ],
   "source": [
    "df.columns"
   ]
  },
  {
   "cell_type": "code",
   "execution_count": 37,
   "metadata": {},
   "outputs": [],
   "source": [
    "data = df.drop(['PassengerId', 'Name', 'Ticket', 'Fare', 'Cabin', 'Embarked'], axis=1)"
   ]
  },
  {
   "cell_type": "code",
   "execution_count": 38,
   "metadata": {},
   "outputs": [
    {
     "name": "stdout",
     "output_type": "stream",
     "text": [
      "<class 'pandas.core.frame.DataFrame'>\n",
      "RangeIndex: 891 entries, 0 to 890\n",
      "Data columns (total 6 columns):\n",
      "Survived    891 non-null int64\n",
      "Pclass      891 non-null int64\n",
      "Sex         891 non-null object\n",
      "Age         714 non-null float64\n",
      "SibSp       891 non-null int64\n",
      "Parch       891 non-null int64\n",
      "dtypes: float64(1), int64(4), object(1)\n",
      "memory usage: 41.8+ KB\n"
     ]
    }
   ],
   "source": [
    "data.info()"
   ]
  },
  {
   "cell_type": "code",
   "execution_count": 39,
   "metadata": {},
   "outputs": [],
   "source": [
    "le = LabelEncoder()\n",
    "data[\"Sex\"] = le.fit_transform(data[\"Sex\"])"
   ]
  },
  {
   "cell_type": "code",
   "execution_count": 40,
   "metadata": {},
   "outputs": [],
   "source": [
    "out = data.dropna().groupby([\"Sex\", \"Pclass\"]).mean()"
   ]
  },
  {
   "cell_type": "code",
   "execution_count": 41,
   "metadata": {},
   "outputs": [],
   "source": [
    "sheet = out.reset_index()"
   ]
  },
  {
   "cell_type": "code",
   "execution_count": 42,
   "metadata": {},
   "outputs": [
    {
     "data": {
      "text/plain": [
       "34.61176470588235"
      ]
     },
     "execution_count": 42,
     "metadata": {},
     "output_type": "execute_result"
    }
   ],
   "source": [
    "sheet.loc[(sheet[\"Sex\"]==0) & (sheet[\"Pclass\"]==1)].iloc[0, 3]"
   ]
  },
  {
   "cell_type": "code",
   "execution_count": 43,
   "metadata": {},
   "outputs": [],
   "source": [
    "def set_age(person):\n",
    "    \n",
    "    if person.isna()[\"Age\"]:\n",
    "        person[\"Age\"] =  sheet.loc[(sheet[\"Sex\"]==person[\"Sex\"]) & (sheet[\"Pclass\"]==person[\"Pclass\"])].iloc[0, 3]\n",
    "        \n",
    "    return person"
   ]
  },
  {
   "cell_type": "code",
   "execution_count": 56,
   "metadata": {},
   "outputs": [],
   "source": [
    "result = data.apply(set_age, axis=1)"
   ]
  },
  {
   "cell_type": "code",
   "execution_count": 57,
   "metadata": {},
   "outputs": [
    {
     "name": "stdout",
     "output_type": "stream",
     "text": [
      "<class 'pandas.core.frame.DataFrame'>\n",
      "RangeIndex: 891 entries, 0 to 890\n",
      "Data columns (total 6 columns):\n",
      "Survived    891 non-null float64\n",
      "Pclass      891 non-null float64\n",
      "Sex         891 non-null float64\n",
      "Age         891 non-null float64\n",
      "SibSp       891 non-null float64\n",
      "Parch       891 non-null float64\n",
      "dtypes: float64(6)\n",
      "memory usage: 41.8 KB\n"
     ]
    }
   ],
   "source": [
    "result.info()"
   ]
  },
  {
   "cell_type": "code",
   "execution_count": 58,
   "metadata": {},
   "outputs": [],
   "source": [
    "result[\"Age\"] = np.array(result[\"Age\"]/10, dtype=int)"
   ]
  },
  {
   "cell_type": "code",
   "execution_count": 59,
   "metadata": {},
   "outputs": [],
   "source": [
    "X = result.drop([\"Survived\"], axis=1)"
   ]
  },
  {
   "cell_type": "code",
   "execution_count": 60,
   "metadata": {},
   "outputs": [],
   "source": [
    "y = result[\"Survived\"]"
   ]
  },
  {
   "cell_type": "code",
   "execution_count": 61,
   "metadata": {},
   "outputs": [],
   "source": [
    "X_train, X_test, y_train, y_test = train_test_split(\n",
    "...     X, y, test_size=0.33, random_state=42)"
   ]
  },
  {
   "cell_type": "code",
   "execution_count": null,
   "metadata": {},
   "outputs": [],
   "source": []
  },
  {
   "cell_type": "code",
   "execution_count": 69,
   "metadata": {},
   "outputs": [],
   "source": []
  },
  {
   "cell_type": "code",
   "execution_count": 70,
   "metadata": {},
   "outputs": [
    {
     "data": {
      "text/plain": [
       "0.9607079018756469"
      ]
     },
     "execution_count": 70,
     "metadata": {},
     "output_type": "execute_result"
    }
   ],
   "source": [
    "entropy(y)"
   ]
  },
  {
   "cell_type": "code",
   "execution_count": 81,
   "metadata": {},
   "outputs": [],
   "source": []
  },
  {
   "cell_type": "code",
   "execution_count": 82,
   "metadata": {},
   "outputs": [
    {
     "name": "stdout",
     "output_type": "stream",
     "text": [
      "Pclass 0.07579362743608165\n",
      "Sex 0.2176601066606142\n",
      "Age 0.0011056067250906354\n",
      "SibSp 0.009584541813400071\n",
      "Parch 0.015380754493137583\n"
     ]
    }
   ],
   "source": [
    "for col in X.columns:\n",
    "    print(col, info_gain(X, y, col))"
   ]
  },
  {
   "cell_type": "code",
   "execution_count": 83,
   "metadata": {},
   "outputs": [
    {
     "data": {
      "text/plain": [
       "-0.0"
      ]
     },
     "execution_count": 83,
     "metadata": {},
     "output_type": "execute_result"
    }
   ],
   "source": [
    "entropy([])"
   ]
  },
  {
   "cell_type": "code",
   "execution_count": 93,
   "metadata": {},
   "outputs": [],
   "source": [
    "class Node:\n",
    "    \n",
    "    def __init__(self, label=None, pivot=None, result=None):\n",
    "        self.label = label\n",
    "        self.pivot = pivot\n",
    "        self.result = result\n",
    "        \n",
    "        self.left = None\n",
    "        self.right = None\n",
    "        \n",
    "    def __repr__(self):\n",
    "        \n",
    "        if self.label == None:\n",
    "            return str(self.result > 0.5)\n",
    "        else:\n",
    "            return \"{} : {}\".format(self.label, self.pivot)\n",
    "    "
   ]
  },
  {
   "cell_type": "code",
   "execution_count": 94,
   "metadata": {},
   "outputs": [],
   "source": [
    "def entropy(y):\n",
    "    \n",
    "    data = np.array(y)\n",
    "    items, counts = np.unique(data, return_counts=True)\n",
    "    probabs = counts / data.size\n",
    "    log_probabs = np.log2(probabs)\n",
    "    return -np.sum(probabs * log_probabs)\n",
    "\n",
    "def info_gain(X, y, label):\n",
    "    \n",
    "    pivot = X[label].mean()\n",
    "    \n",
    "    left_cut = X[label] < pivot\n",
    "    right_cut = X[label] >= pivot\n",
    "    \n",
    "    y_left, y_right = y.loc[left_cut], y.loc[right_cut]\n",
    "    \n",
    "    p_left = len(y_left)/len(y)\n",
    "    p_right= 1 - p_left\n",
    "    \n",
    "    return entropy(y) - (p_left * entropy(y_left) + p_right*entropy(y_right))\n",
    "\n",
    "class CustomDecisionTree:\n",
    "    \n",
    "    def __init__(self, max_depth=5):\n",
    "        self.root = None\n",
    "        self.max_depth = max_depth\n",
    "    \n",
    "    def fit(self, X, y):\n",
    "        \n",
    "        self.root = self.rec_fit(X, y, self.max_depth)\n",
    "        \n",
    "    def rec_fit(self, X, y, max_depth):\n",
    "        \n",
    "        if max_depth == 0:\n",
    "            node = Node(result=y.mean())\n",
    "            return node\n",
    "        \n",
    "        gains = []\n",
    "        for col in X.columns:\n",
    "            gains.append((info_gain(X, y, col), col))\n",
    "        \n",
    "        sorted_gains = sorted(gains, reverse=True)\n",
    "        selected_gain, selected_col = sorted_gains[0]\n",
    "        \n",
    "        if selected_gain <= 0:\n",
    "            node = Node(result=y.mean())\n",
    "            return node\n",
    "        \n",
    "        pivot = X[selected_col].mean()\n",
    "    \n",
    "        left_cut = X[selected_col] < pivot\n",
    "        right_cut = X[selected_col] >= pivot\n",
    "\n",
    "        X_left, X_right = X.loc[left_cut], X.loc[right_cut]\n",
    "        y_left, y_right = y.loc[left_cut], y.loc[right_cut]\n",
    "        \n",
    "        node = Node(label=selected_col, pivot=pivot)\n",
    "        node.left = self.rec_fit(X_left, y_left, max_depth-1)\n",
    "        node.right = self.rec_fit(X_right, y_right, max_depth-1)\n",
    "        \n",
    "        return node\n",
    "    \n",
    "    def display(self):\n",
    "        self.rec_display(self.root, \"\")\n",
    "        \n",
    "    def rec_display(self, node, indent):\n",
    "        if node == None:\n",
    "            return\n",
    "        \n",
    "        print(indent, node)\n",
    "        self.rec_display(node.left, indent + \"\\t\")\n",
    "        self.rec_display(node.right, indent + \"\\t\")\n",
    "        \n",
    "        \n",
    "        \n",
    "        "
   ]
  },
  {
   "cell_type": "code",
   "execution_count": 101,
   "metadata": {},
   "outputs": [],
   "source": [
    "model = CustomDecisionTree(max_depth=3)"
   ]
  },
  {
   "cell_type": "code",
   "execution_count": 102,
   "metadata": {},
   "outputs": [],
   "source": [
    "model.fit(X_train, y_train)"
   ]
  },
  {
   "cell_type": "code",
   "execution_count": 103,
   "metadata": {},
   "outputs": [
    {
     "name": "stdout",
     "output_type": "stream",
     "text": [
      " Sex : 0.6543624161073825\n",
      "\t Pclass : 2.1941747572815533\n",
      "\t\t SibSp : 0.514018691588785\n",
      "\t\t\t True\n",
      "\t\t\t True\n",
      "\t\t SibSp : 0.9797979797979798\n",
      "\t\t\t True\n",
      "\t\t\t False\n",
      "\t Pclass : 2.4128205128205127\n",
      "\t\t Parch : 0.20915032679738563\n",
      "\t\t\t False\n",
      "\t\t\t False\n",
      "\t\t Parch : 0.22784810126582278\n",
      "\t\t\t False\n",
      "\t\t\t False\n"
     ]
    }
   ],
   "source": [
    "model.display()"
   ]
  },
  {
   "cell_type": "code",
   "execution_count": null,
   "metadata": {},
   "outputs": [],
   "source": []
  }
 ],
 "metadata": {
  "kernelspec": {
   "display_name": "Python 3",
   "language": "python",
   "name": "python3"
  },
  "language_info": {
   "codemirror_mode": {
    "name": "ipython",
    "version": 3
   },
   "file_extension": ".py",
   "mimetype": "text/x-python",
   "name": "python",
   "nbconvert_exporter": "python",
   "pygments_lexer": "ipython3",
   "version": "3.7.2"
  }
 },
 "nbformat": 4,
 "nbformat_minor": 4
}
